{
 "cells": [
  {
   "cell_type": "code",
   "execution_count": 1,
   "id": "0b0b8441-59c2-44a4-a928-c7d38566364d",
   "metadata": {},
   "outputs": [],
   "source": [
    "# 1. 라이브러리 로드\n",
    "import pandas as pd\n",
    "from sklearn.preprocessing import StandardScaler, LabelEncoder\n",
    "from sklearn.decomposition import PCA\n",
    "from sklearn.compose import ColumnTransformer\n",
    "from sklearn.preprocessing import OneHotEncoder\n",
    "from sklearn.pipeline import Pipeline\n",
    "import matplotlib.pyplot as plt\n",
    "import seaborn as sns"
   ]
  },
  {
   "cell_type": "code",
   "execution_count": 2,
   "id": "fd12ff41-4089-4383-83fe-254fb155d76b",
   "metadata": {},
   "outputs": [],
   "source": [
    "# 2. 데이터 로드\n",
    "cars_df = pd.read_csv('cars.csv')\n",
    "brand_df = pd.read_csv('brand.csv')"
   ]
  },
  {
   "cell_type": "code",
   "execution_count": 3,
   "id": "d1348eee-6920-4616-9ca0-f9f52a038bd1",
   "metadata": {},
   "outputs": [],
   "source": [
    "# 3. cars.csv와 brand.csv 데이터 합치기\n",
    "# title 변수에서 브랜드 정보를 추출하여 결합할 수 있도록 준비\n",
    "cars_df['title'] = cars_df['title'].str.lower().str.split().str[0]  # 브랜드명만 추출\n",
    "brand_df['title'] = brand_df['title'].str.lower()"
   ]
  },
  {
   "cell_type": "code",
   "execution_count": 4,
   "id": "9637469f-1bfd-4ba0-8223-4df1cda12321",
   "metadata": {},
   "outputs": [],
   "source": [
    "# 브랜드명 기준으로 데이터 병합\n",
    "merged_df = pd.merge(cars_df, brand_df, on='title', how='left')"
   ]
  },
  {
   "cell_type": "code",
   "execution_count": 5,
   "id": "7476701d-7f6c-4459-a9ed-dfff060805ec",
   "metadata": {},
   "outputs": [
    {
     "name": "stdout",
     "output_type": "stream",
     "text": [
      "      title  Price  Mileage(miles)  Registration_Year  Previous Owners  \\\n",
      "0     skoda   6900           70189               2016              3.0   \n",
      "1  vauxhall   1495           88585               2008              4.0   \n",
      "2   hyundai    949          137000               2011              NaN   \n",
      "3      mini   2395           96731               2010              5.0   \n",
      "4  vauxhall   1000           85000               2013              NaN   \n",
      "5   hyundai    800          124196               2007              3.0   \n",
      "6      ford    798          140599               2008              NaN   \n",
      "7  vauxhall   1995           90000               2009              NaN   \n",
      "8     volvo    750          225318               2025              NaN   \n",
      "9   peugeot   1299           87000               2008              5.0   \n",
      "\n",
      "  Fuel type  Body type Engine    Gearbox  Doors  Seats Emission Class  \\\n",
      "0    Diesel  Hatchback   1.4L     Manual    5.0    5.0         Euro 6   \n",
      "1    Petrol  Hatchback   1.2L     Manual    3.0    5.0         Euro 4   \n",
      "2    Petrol  Hatchback   1.4L     Manual    5.0    5.0         Euro 5   \n",
      "3    Petrol  Hatchback   1.4L     Manual    3.0    4.0         Euro 4   \n",
      "4    Diesel  Hatchback   1.3L     Manual    5.0    5.0         Euro 5   \n",
      "5    Petrol      Coupe   2.0L     Manual    3.0    4.0         Euro 4   \n",
      "6    Petrol  Hatchback   1.6L     Manual    5.0    5.0         Euro 4   \n",
      "7    Petrol  Hatchback   1.2L     Manual    3.0    5.0         Euro 4   \n",
      "8    Petrol     Estate   2.3L  Automatic    5.0    NaN            NaN   \n",
      "9    Diesel  Hatchback   1.6L     Manual    5.0    5.0         Euro 4   \n",
      "\n",
      "  Service history         country  \n",
      "0             NaN  Czech Republic  \n",
      "1            Full  United Kingdom  \n",
      "2             NaN     South Korea  \n",
      "3            Full  United Kingdom  \n",
      "4             NaN  United Kingdom  \n",
      "5             NaN     South Korea  \n",
      "6             NaN   United States  \n",
      "7             NaN  United Kingdom  \n",
      "8             NaN          Sweden  \n",
      "9             NaN          France  \n"
     ]
    }
   ],
   "source": [
    "print(merged_df.head(10))"
   ]
  },
  {
   "cell_type": "code",
   "execution_count": 37,
   "id": "4378404e-a69d-4fbd-9f95-73120d51477f",
   "metadata": {},
   "outputs": [],
   "source": [
    "###결측치 처리"
   ]
  },
  {
   "cell_type": "code",
   "execution_count": 8,
   "id": "89865007-62eb-4a6e-850d-09018cf94784",
   "metadata": {},
   "outputs": [],
   "source": [
    "from sklearn.preprocessing import LabelEncoder\n",
    "\n",
    "# 'Engine'과 'Emission Class' 열을 Label Encoding으로 숫자형으로 변환\n",
    "label_encoder = LabelEncoder()\n",
    "\n",
    "merged_df['Engine'] = label_encoder.fit_transform(merged_df['Engine'].astype(str))\n",
    "merged_df['Emission Class'] = label_encoder.fit_transform(merged_df['Emission Class'].astype(str))"
   ]
  },
  {
   "cell_type": "code",
   "execution_count": 7,
   "id": "c967e87f-cd08-4880-aba5-15b9c1ceec75",
   "metadata": {},
   "outputs": [
    {
     "name": "stdout",
     "output_type": "stream",
     "text": [
      "title                   0\n",
      "Price                   0\n",
      "Mileage(miles)          0\n",
      "Registration_Year       0\n",
      "Previous Owners      1411\n",
      "Fuel type               0\n",
      "Body type               0\n",
      "Engine                 45\n",
      "Gearbox                 0\n",
      "Doors                  25\n",
      "Seats                  35\n",
      "Emission Class         87\n",
      "Service history      3147\n",
      "country                 0\n",
      "dtype: int64\n"
     ]
    }
   ],
   "source": [
    "# 열마다 결측치 갯수 확인\n",
    "missing_values = merged_df.isnull().sum()\n",
    "print(missing_values)"
   ]
  },
  {
   "cell_type": "code",
   "execution_count": 22,
   "id": "3eb42d34-5431-4fef-bd70-bc16e1ab2d6f",
   "metadata": {},
   "outputs": [
    {
     "name": "stderr",
     "output_type": "stream",
     "text": [
      "C:\\Users\\user\\AppData\\Local\\Temp\\ipykernel_516\\4141397844.py:2: FutureWarning: A value is trying to be set on a copy of a DataFrame or Series through chained assignment using an inplace method.\n",
      "The behavior will change in pandas 3.0. This inplace method will never work because the intermediate object on which we are setting values always behaves as a copy.\n",
      "\n",
      "For example, when doing 'df[col].method(value, inplace=True)', try using 'df.method({col: value}, inplace=True)' or df[col] = df[col].method(value) instead, to perform the operation inplace on the original object.\n",
      "\n",
      "\n",
      "  merged_df['Service history'].fillna('Unknown', inplace=True)\n"
     ]
    }
   ],
   "source": [
    "# Service history 변수의 결측치를 'Unknown'으로 채우기\n",
    "merged_df['Service history'].fillna('Unknown', inplace=True)\n",
    "\n",
    "# 결측치가 5개 이상 포함된 행 제거하기\n",
    "merged_df = merged_df[merged_df.isnull().sum(axis=1) < 5]"
   ]
  },
  {
   "cell_type": "code",
   "execution_count": 24,
   "id": "269707f0-707d-4b8c-8dbc-ffd235e5a20c",
   "metadata": {},
   "outputs": [
    {
     "name": "stdout",
     "output_type": "stream",
     "text": [
      "title                   0\n",
      "Price                   0\n",
      "Mileage(miles)          0\n",
      "Registration_Year       0\n",
      "Previous Owners      1411\n",
      "Fuel type               0\n",
      "Body type               0\n",
      "Engine                  0\n",
      "Gearbox                 0\n",
      "Doors                  25\n",
      "Seats                  35\n",
      "Emission Class          0\n",
      "Service history         0\n",
      "country                 0\n",
      "dtype: int64\n"
     ]
    }
   ],
   "source": [
    "missing_values = merged_df.isnull().sum()\n",
    "print(missing_values)"
   ]
  },
  {
   "cell_type": "code",
   "execution_count": 27,
   "id": "94d73418-4943-48b3-bce1-81fbbb0cc6be",
   "metadata": {},
   "outputs": [
    {
     "name": "stderr",
     "output_type": "stream",
     "text": [
      "C:\\Users\\user\\AppData\\Local\\Temp\\ipykernel_516\\185541579.py:1: FutureWarning: A value is trying to be set on a copy of a DataFrame or Series through chained assignment using an inplace method.\n",
      "The behavior will change in pandas 3.0. This inplace method will never work because the intermediate object on which we are setting values always behaves as a copy.\n",
      "\n",
      "For example, when doing 'df[col].method(value, inplace=True)', try using 'df.method({col: value}, inplace=True)' or df[col] = df[col].method(value) instead, to perform the operation inplace on the original object.\n",
      "\n",
      "\n",
      "  merged_df['Previous Owners'].fillna('Unknown', inplace=True)\n",
      "C:\\Users\\user\\AppData\\Local\\Temp\\ipykernel_516\\185541579.py:1: FutureWarning: Setting an item of incompatible dtype is deprecated and will raise an error in a future version of pandas. Value 'Unknown' has dtype incompatible with float64, please explicitly cast to a compatible dtype first.\n",
      "  merged_df['Previous Owners'].fillna('Unknown', inplace=True)\n"
     ]
    }
   ],
   "source": [
    "merged_df['Previous Owners'].fillna('Unknown', inplace=True)"
   ]
  },
  {
   "cell_type": "code",
   "execution_count": 29,
   "id": "0d32390a-d1de-4320-8230-f17d551203b8",
   "metadata": {},
   "outputs": [
    {
     "name": "stdout",
     "output_type": "stream",
     "text": [
      "title                 0\n",
      "Price                 0\n",
      "Mileage(miles)        0\n",
      "Registration_Year     0\n",
      "Previous Owners       0\n",
      "Fuel type             0\n",
      "Body type             0\n",
      "Engine                0\n",
      "Gearbox               0\n",
      "Doors                25\n",
      "Seats                35\n",
      "Emission Class        0\n",
      "Service history       0\n",
      "country               0\n",
      "dtype: int64\n"
     ]
    }
   ],
   "source": [
    "missing_values = merged_df.isnull().sum()\n",
    "print(missing_values)"
   ]
  },
  {
   "cell_type": "code",
   "execution_count": 31,
   "id": "230e62c4-2a37-434e-90a5-01e428c6994f",
   "metadata": {},
   "outputs": [],
   "source": [
    "# 결측치가 남아 있는 모든 행 제거\n",
    "merged_df.dropna(inplace=True)"
   ]
  },
  {
   "cell_type": "code",
   "execution_count": 39,
   "id": "7d957021-1cff-43da-a131-fad93555cdad",
   "metadata": {},
   "outputs": [],
   "source": [
    "###Scaler 적용"
   ]
  },
  {
   "cell_type": "code",
   "execution_count": 33,
   "id": "c21f1eac-a740-4085-9006-15865be4d538",
   "metadata": {},
   "outputs": [],
   "source": [
    "from sklearn.preprocessing import StandardScaler\n",
    "\n",
    "# 수치형 변수만 선택하여 Scaler 적용\n",
    "numeric_columns = merged_df.select_dtypes(include=['int64', 'float64']).columns\n",
    "scaler = StandardScaler()\n",
    "\n",
    "# 데이터프레임에 Scaler 적용\n",
    "merged_df[numeric_columns] = scaler.fit_transform(merged_df[numeric_columns])"
   ]
  },
  {
   "cell_type": "code",
   "execution_count": 41,
   "id": "7da809ae-001b-4719-825e-deef6d55353a",
   "metadata": {},
   "outputs": [],
   "source": [
    "### PCA 적용"
   ]
  },
  {
   "cell_type": "code",
   "execution_count": 45,
   "id": "a3fee415-5c30-4c21-8a51-1b100f798e87",
   "metadata": {},
   "outputs": [],
   "source": [
    "#PC1은 차량의 가격, 주행 거리, 연식과 관련된 정보 요약, 차량 가치와 상태\n",
    "#PC2는 차량 크기와 유형에 대한 정보 요약, 소형차부터 대형차까지의 유형"
   ]
  },
  {
   "cell_type": "code",
   "execution_count": 35,
   "id": "31e25674-a2c7-4cc3-b952-3a62fb7d0d6f",
   "metadata": {},
   "outputs": [
    {
     "name": "stdout",
     "output_type": "stream",
     "text": [
      "선택된 주성분 개수: 2\n",
      "설명된 분산 비율 (누적): 0.74\n"
     ]
    }
   ],
   "source": [
    "from sklearn.decomposition import PCA\n",
    "\n",
    "# PCA 적용\n",
    "pca = PCA(n_components=0.7)  # 설명 분산 비율이 70% 이상이 되도록 설정\n",
    "principal_components = pca.fit_transform(merged_df[numeric_columns])\n",
    "\n",
    "# 결과 확인\n",
    "print(f\"선택된 주성분 개수: {pca.n_components_}\")\n",
    "print(f\"설명된 분산 비율 (누적): {sum(pca.explained_variance_ratio_):.2f}\")\n",
    "\n",
    "# 주성분 데이터프레임으로 변환\n",
    "pca_df = pd.DataFrame(data=principal_components, columns=[f'PC{i+1}' for i in range(pca.n_components_)])"
   ]
  },
  {
   "cell_type": "code",
   "execution_count": 43,
   "id": "395e29ed-bb4a-4d5b-8658-78061ac21ab5",
   "metadata": {},
   "outputs": [
    {
     "name": "stdout",
     "output_type": "stream",
     "text": [
      "        Price  Mileage(miles)  Registration_Year     Doors     Seats\n",
      "PC1 -0.605632        0.477636          -0.603390 -0.197340 -0.045299\n",
      "PC2  0.103019       -0.198819           0.010857 -0.667601 -0.709964\n"
     ]
    }
   ],
   "source": [
    "# 주성분 로드 값을 데이터프레임으로 변환하여 확인\n",
    "pca_components_df = pd.DataFrame(pca.components_, columns=numeric_columns, index=[f'PC{i+1}' for i in range(pca.n_components_)])\n",
    "print(pca_components_df)"
   ]
  },
  {
   "cell_type": "code",
   "execution_count": 47,
   "id": "fa0ca3b9-e7c8-471b-b810-83e0f1ab1f7b",
   "metadata": {},
   "outputs": [],
   "source": [
    "#국가별 총 브랜드 개수는?"
   ]
  },
  {
   "cell_type": "code",
   "execution_count": 49,
   "id": "40b0a144-95d6-4d2d-81e4-ee3882b13d9e",
   "metadata": {},
   "outputs": [
    {
     "name": "stdout",
     "output_type": "stream",
     "text": [
      "           country  brand_count\n",
      "0   Czech Republic            1\n",
      "1           France            4\n",
      "2          Germany            6\n",
      "3            Italy            4\n",
      "4            Japan           11\n",
      "5         Malaysia            1\n",
      "6          Romania            1\n",
      "7      South Korea            4\n",
      "8            Spain            1\n",
      "9           Sweden            2\n",
      "10  United Kingdom            6\n",
      "11   United States            5\n"
     ]
    }
   ],
   "source": [
    "# 국가별로 그룹화하여 고유한 브랜드(title)의 개수를 계산\n",
    "country_brand_counts = merged_df.groupby('country')['title'].nunique().reset_index()\n",
    "\n",
    "# 열 이름 변경: country, brand_count\n",
    "country_brand_counts.columns = ['country', 'brand_count']\n",
    "\n",
    "# 결과 확인\n",
    "print(country_brand_counts)"
   ]
  },
  {
   "cell_type": "code",
   "execution_count": 51,
   "id": "c6d7cb96-6b25-44b3-8a35-c6d90475aa80",
   "metadata": {},
   "outputs": [],
   "source": [
    "#상관관계가 높은 변수들이 있는지 확인"
   ]
  },
  {
   "cell_type": "code",
   "execution_count": 55,
   "id": "dc927ef1-5b62-421b-8eb9-6d168ed35c08",
   "metadata": {},
   "outputs": [
    {
     "data": {
      "image/png": "[encoded data removed]",
      "text/plain": [
       "<Figure size 1000x800 with 2 Axes>"
      ]
     },
     "metadata": {},
     "output_type": "display_data"
    }
   ],
   "source": [
    "import matplotlib.pyplot as plt\n",
    "import seaborn as sns\n",
    "\n",
    "\n",
    "# 숫자형 열만 선택\n",
    "numeric_df = merged_df.select_dtypes(include=['float64', 'int64'])\n",
    "\n",
    "# 상관관계 행렬 계산\n",
    "correlation_matrix = numeric_df.corr()\n",
    "\n",
    "# 상관관계가 높은 변수들을 확인하기 위해 히트맵 시각화\n",
    "plt.figure(figsize=(10, 8))\n",
    "sns.heatmap(correlation_matrix, annot=True, fmt=\".2f\", cmap=\"coolwarm\", cbar=True)\n",
    "plt.title(\"Correlation Matrix of Numeric Variables\")\n",
    "plt.show()"
   ]
  },
  {
   "cell_type": "code",
   "execution_count": null,
   "id": "b48ab844-7f9c-4044-a7e5-d8d5636eca7e",
   "metadata": {},
   "outputs": [],
   "source": []
  }
 ],
 "metadata": {
  "kernelspec": {
   "display_name": "Python 3 (ipykernel)",
   "language": "python",
   "name": "python3"
  },
  "language_info": {
   "codemirror_mode": {
    "name": "ipython",
    "version": 3
   },
   "file_extension": ".py",
   "mimetype": "text/x-python",
   "name": "python",
   "nbconvert_exporter": "python",
   "pygments_lexer": "ipython3",
   "version": "3.12.4"
  }
 },
 "nbformat": 4,
 "nbformat_minor": 5
}
